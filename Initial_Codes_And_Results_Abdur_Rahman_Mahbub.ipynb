{
  "nbformat": 4,
  "nbformat_minor": 0,
  "metadata": {
    "colab": {
      "provenance": []
    },
    "kernelspec": {
      "name": "python3",
      "display_name": "Python 3"
    },
    "language_info": {
      "name": "python"
    }
  },
  "cells": [
    {
      "cell_type": "markdown",
      "source": [
        "## **METHODS FOR TACKLING COLD START PROBLEM IN RECOMMENDER SYSTEMS**"
      ],
      "metadata": {
        "id": "kEx6tJ76v-JK"
      }
    },
    {
      "cell_type": "markdown",
      "source": [
        "**INITIAL RESULTS AND CODES**\n",
        "\n",
        "**SUPERVISOR:**  CENI BABAOGLU\n",
        "\n",
        "**COURSE:** BIG DATA ANALYTICS\n",
        "\n",
        "**CODE:** CIND 820\n",
        "\n",
        "**SUBMITTED BY:** ABDUR RAHMAN MAHBUB\n",
        "\n",
        "**STUDENT ID:** 501142642\n",
        "\n",
        "**SUBMITTED ON:** 26th NOVEMBER, 2023"
      ],
      "metadata": {
        "id": "2DTw9SqewAaU"
      }
    },
    {
      "cell_type": "markdown",
      "source": [
        "\n",
        "\n",
        "\n",
        "\n",
        "This project is created in Google Collab."
      ],
      "metadata": {
        "id": "Whmy1mXxwECP"
      }
    },
    {
      "cell_type": "markdown",
      "source": [
        "Primarily, the following codes and libraries are loaded. Then the dataset \"Movielens Small\" is loaded and read."
      ],
      "metadata": {
        "id": "Wjv3uml1wIyd"
      }
    },
    {
      "cell_type": "code",
      "execution_count": 8,
      "metadata": {
        "colab": {
          "base_uri": "https://localhost:8080/"
        },
        "id": "Hkkb-oXZdfg3",
        "outputId": "279e8bf5-3371-491e-a1c0-9c2156115f53"
      },
      "outputs": [
        {
          "output_type": "stream",
          "name": "stdout",
          "text": [
            "Requirement already satisfied: pandas in /usr/local/lib/python3.10/dist-packages (1.5.3)\n",
            "Requirement already satisfied: scipy in /usr/local/lib/python3.10/dist-packages (1.11.3)\n",
            "Requirement already satisfied: python-dateutil>=2.8.1 in /usr/local/lib/python3.10/dist-packages (from pandas) (2.8.2)\n",
            "Requirement already satisfied: pytz>=2020.1 in /usr/local/lib/python3.10/dist-packages (from pandas) (2023.3.post1)\n",
            "Requirement already satisfied: numpy>=1.21.0 in /usr/local/lib/python3.10/dist-packages (from pandas) (1.23.5)\n",
            "Requirement already satisfied: six>=1.5 in /usr/local/lib/python3.10/dist-packages (from python-dateutil>=2.8.1->pandas) (1.16.0)\n",
            "Requirement already satisfied: pandas in /usr/local/lib/python3.10/dist-packages (1.5.3)\n",
            "Requirement already satisfied: numpy in /usr/local/lib/python3.10/dist-packages (1.23.5)\n",
            "Requirement already satisfied: matplotlib in /usr/local/lib/python3.10/dist-packages (3.7.1)\n",
            "Requirement already satisfied: seaborn in /usr/local/lib/python3.10/dist-packages (0.12.2)\n",
            "Requirement already satisfied: python-dateutil>=2.8.1 in /usr/local/lib/python3.10/dist-packages (from pandas) (2.8.2)\n",
            "Requirement already satisfied: pytz>=2020.1 in /usr/local/lib/python3.10/dist-packages (from pandas) (2023.3.post1)\n",
            "Requirement already satisfied: contourpy>=1.0.1 in /usr/local/lib/python3.10/dist-packages (from matplotlib) (1.2.0)\n",
            "Requirement already satisfied: cycler>=0.10 in /usr/local/lib/python3.10/dist-packages (from matplotlib) (0.12.1)\n",
            "Requirement already satisfied: fonttools>=4.22.0 in /usr/local/lib/python3.10/dist-packages (from matplotlib) (4.44.3)\n",
            "Requirement already satisfied: kiwisolver>=1.0.1 in /usr/local/lib/python3.10/dist-packages (from matplotlib) (1.4.5)\n",
            "Requirement already satisfied: packaging>=20.0 in /usr/local/lib/python3.10/dist-packages (from matplotlib) (23.2)\n",
            "Requirement already satisfied: pillow>=6.2.0 in /usr/local/lib/python3.10/dist-packages (from matplotlib) (9.4.0)\n",
            "Requirement already satisfied: pyparsing>=2.3.1 in /usr/local/lib/python3.10/dist-packages (from matplotlib) (3.1.1)\n",
            "Requirement already satisfied: six>=1.5 in /usr/local/lib/python3.10/dist-packages (from python-dateutil>=2.8.1->pandas) (1.16.0)\n",
            "Requirement already satisfied: tabulate in /usr/local/lib/python3.10/dist-packages (0.9.0)\n",
            "Requirement already satisfied: scikit-surprise in /usr/local/lib/python3.10/dist-packages (1.1.3)\n",
            "Requirement already satisfied: joblib>=1.0.0 in /usr/local/lib/python3.10/dist-packages (from scikit-surprise) (1.3.2)\n",
            "Requirement already satisfied: numpy>=1.17.3 in /usr/local/lib/python3.10/dist-packages (from scikit-surprise) (1.23.5)\n",
            "Requirement already satisfied: scipy>=1.3.2 in /usr/local/lib/python3.10/dist-packages (from scikit-surprise) (1.11.3)\n",
            "Requirement already satisfied: pyspark in /usr/local/lib/python3.10/dist-packages (3.5.0)\n",
            "Requirement already satisfied: py4j==0.10.9.7 in /usr/local/lib/python3.10/dist-packages (from pyspark) (0.10.9.7)\n",
            "Requirement already satisfied: scikit-learn in /usr/local/lib/python3.10/dist-packages (1.2.2)\n",
            "Requirement already satisfied: numpy>=1.17.3 in /usr/local/lib/python3.10/dist-packages (from scikit-learn) (1.23.5)\n",
            "Requirement already satisfied: scipy>=1.3.2 in /usr/local/lib/python3.10/dist-packages (from scikit-learn) (1.11.3)\n",
            "Requirement already satisfied: joblib>=1.1.1 in /usr/local/lib/python3.10/dist-packages (from scikit-learn) (1.3.2)\n",
            "Requirement already satisfied: threadpoolctl>=2.0.0 in /usr/local/lib/python3.10/dist-packages (from scikit-learn) (3.2.0)\n"
          ]
        }
      ],
      "source": [
        "!pip install pandas scipy\n",
        "!pip install pandas numpy matplotlib seaborn\n",
        "!pip install tabulate\n",
        "!pip install scikit-surprise\n",
        "!pip install pyspark\n",
        "!pip install scikit-learn\n",
        "\n",
        "import pandas as pd\n",
        "import numpy as np\n",
        "import urllib.request\n",
        "import os\n",
        "import seaborn as sns\n",
        "import matplotlib.pyplot as plt\n",
        "from zipfile import ZipFile\n",
        "from scipy.sparse.linalg import svds\n",
        "from scipy.sparse import csr_matrix\n",
        "from sklearn.model_selection import train_test_split\n",
        "from sklearn.metrics.pairwise import cosine_similarity\n",
        "from sklearn.metrics import mean_squared_error\n",
        "from sklearn.metrics import mean_absolute_error\n",
        "from sklearn.feature_extraction.text import TfidfVectorizer\n",
        "from sklearn.decomposition import TruncatedSVD"
      ]
    },
    {
      "cell_type": "markdown",
      "source": [
        "In this step, the dataset is located using the link, downloaded and loaded into Pandas.\n"
      ],
      "metadata": {
        "id": "5naQbYe8y80E"
      }
    },
    {
      "cell_type": "code",
      "source": [
        "# Dataset location\n",
        "url = 'http://files.grouplens.org/datasets/movielens/ml-latest-small.zip'\n",
        "file_name = 'movielens_small.zip'\n",
        "\n",
        "# Downloaded from the location and loaded\n",
        "if not os.path.exists(file_name):\n",
        "    urllib.request.urlretrieve(url, file_name)\n",
        "    with ZipFile(file_name, 'r') as zip_ref:\n",
        "        zip_ref.extractall()\n",
        "\n",
        "movies_df = pd.read_csv('ml-latest-small/movies.csv')\n",
        "ratings_df = pd.read_csv('ml-latest-small/ratings.csv')\n",
        "tags_df = pd.read_csv('ml-latest-small/tags.csv')\n",
        "links_df = pd.read_csv('ml-latest-small/links.csv')"
      ],
      "metadata": {
        "id": "eNwrUChUlttn"
      },
      "execution_count": 12,
      "outputs": []
    },
    {
      "cell_type": "markdown",
      "source": [
        "In the next step, data will be merged and cleaned for research ease. It will be then modified and combined before splitted into training and test sets. User item matrix will be created and finally the matrix will be converted into sparse  for further processing."
      ],
      "metadata": {
        "id": "H9terWllzhtE"
      }
    },
    {
      "cell_type": "code",
      "source": [
        "# Merging 'tags' with 'movies' dataframe.\n",
        "movies_df = pd.merge(movies_df, tags_df, on='movieId', how='left')\n",
        "\n",
        "# Merging 'links'with 'movies' dataframe.\n",
        "movies_df = pd.merge(movies_df, links_df, on='movieId', how='left')\n",
        "\n",
        "# Cleaning NaN values in relevant columns.\n",
        "movies_df['tag'] = movies_df['tag'].fillna('')\n",
        "\n",
        "# Modifying 'genres' column in the new dataframe and combining all information for movie feature.\n",
        "movies_df['genres'] = movies_df['genres'].str.replace('|', ' ')\n",
        "movies_df['features'] = movies_df['genres'] + ' ' + movies_df['tag']\n",
        "\n",
        "# Splitting data into training and test sets.\n",
        "train_data, test_data = train_test_split(ratings_df, test_size=0.2, random_state=42)\n",
        "\n",
        "# Creating user-item matrix and converting the dataframe into sparse\n",
        "train_user_item_mtx = train_data.pivot_table(index='userId', columns='movieId', values='rating').fillna(0)\n",
        "train_user_item_mtx_sp = csr_matrix(train_user_item_mtx.values)"
      ],
      "metadata": {
        "colab": {
          "base_uri": "https://localhost:8080/"
        },
        "id": "PweEOkquq4Lp",
        "outputId": "b0f6b6ba-3cb7-4eba-f2cd-593be430fcaf"
      },
      "execution_count": 13,
      "outputs": [
        {
          "output_type": "stream",
          "name": "stderr",
          "text": [
            "<ipython-input-13-31980ee426ae>:11: FutureWarning: The default value of regex will change from True to False in a future version. In addition, single character regular expressions will *not* be treated as literal strings when regex=True.\n",
            "  movies_df['genres'] = movies_df['genres'].str.replace('|', ' ')\n"
          ]
        }
      ]
    },
    {
      "cell_type": "markdown",
      "source": [
        "**DEVELOPING RECOMMENDER SYSTEM USING COLLABORATIVE FILTERING METHOD**"
      ],
      "metadata": {
        "id": "6xGw8V_x76DL"
      }
    },
    {
      "cell_type": "markdown",
      "source": [
        "We will now develop a recommender system base using collaborative filtering step by step. In the following step, matrix factorization will be performed using SVD method to eventually construct a matrix to predict suitable ratings for items that users have not rated yet.\n",
        "\n",
        "Primarily, we will create a predicted rating matrix as 'ratings_predict' which will be used to generate user recommendations in the collaborative filtering. This matrix contains estimated ratings of the used dataframe.\n",
        "\n",
        "For the collaborative filtering model, we will create a function as 'collaborative_filtering' to generate user specific movie recommendations."
      ],
      "metadata": {
        "id": "xsLrpxBu5WSb"
      }
    },
    {
      "cell_type": "code",
      "source": [
        "# Matrix Factorization using SVD method\n",
        "num_factors = 50\n",
        "U, sigma, Vt = svds(train_user_item_mtx_sp, k=num_factors)\n",
        "sigma = np.diag(sigma)\n",
        "ratings_predict = np.dot(np.dot(U, sigma), Vt)"
      ],
      "metadata": {
        "id": "qkh69mhN5WnP"
      },
      "execution_count": 14,
      "outputs": []
    },
    {
      "cell_type": "code",
      "source": [
        "# Developing function for collaborative filtering\n",
        "def collaborative_filtering(user_id, ratings_predict, num_recommendations=10):\n",
        "    if user_id not in range(len(ratings_predict)):\n",
        "        return []\n",
        "\n",
        "    viewer_ratings = ratings_predict[user_id - 1]\n",
        "    sorted_ratings = viewer_ratings.argsort()[::-1]\n",
        "    viewed_movies = train_user_item_mtx.columns[train_user_item_mtx.loc[user_id].gt(0)].tolist()\n",
        "\n",
        "    recommended_movies = []\n",
        "    for idx in sorted_ratings:\n",
        "        movie_id = idx + 1\n",
        "        if movie_id not in viewed_movies:\n",
        "            movie_info = movies_df[movies_df['movieId'] == movie_id]['title'].values\n",
        "            if len(movie_info) > 0:\n",
        "                movie_title = movie_info[0]\n",
        "                recommended_movies.append((movie_title, viewer_ratings[idx]))\n",
        "                if len(recommended_movies) >= num_recommendations:\n",
        "                    break\n",
        "\n",
        "    return recommended_movies"
      ],
      "metadata": {
        "id": "KFGG5qxK-hwA"
      },
      "execution_count": 15,
      "outputs": []
    },
    {
      "cell_type": "markdown",
      "source": [
        "In this step, we will showcase an example of collaborative filtering recommendations. Let's assume a particular user as 'User 22'. The following example will show recommended movies for User 22 based on collaborative filtering technique, including titles and predicted ratings."
      ],
      "metadata": {
        "id": "WXjrhGo3DmJ5"
      }
    },
    {
      "cell_type": "code",
      "source": [
        "userid_colfil = 22\n",
        "colfil_recommended_movies = collaborative_filtering(userid_colfil, ratings_predict)\n",
        "print(f\"Recommendations for User {userid_colfil} Based on Collaborative Filtering\")\n",
        "for idx, (movie, rating) in enumerate(colfil_recommended_movies, start=1):\n",
        "    print(f\"{idx}. {movie}, {rating} \")"
      ],
      "metadata": {
        "colab": {
          "base_uri": "https://localhost:8080/"
        },
        "id": "qem06CFeDns9",
        "outputId": "5bcceeeb-e8b9-4c75-c81f-526b15f3f903"
      },
      "execution_count": null,
      "outputs": [
        {
          "output_type": "stream",
          "name": "stdout",
          "text": [
            "Recommendations for User 22 Based on Collaborative Filtering\n",
            "1. Mary Shelley's Frankenstein (Frankenstein) (1994), 2.95008175706996 \n",
            "2. Three Colors: White (Trzy kolory: Bialy) (1994), 2.6614098231000574 \n",
            "3. Henry: Portrait of a Serial Killer (1986), 2.4370578355562427 \n",
            "4. Hot Chick, The (2002), 2.2892239865759967 \n",
            "5. Kansas City (1996), 1.9198190791633325 \n",
            "6. Wildcats (1986), 1.899867668934507 \n",
            "7. Death Wish (1974), 1.6741195440440744 \n",
            "8. Men of Honor (2000), 1.6651515418966316 \n",
            "9. 15 Minutes (2001), 1.6415064369515207 \n",
            "10. Heidi (1937), 1.568954276681546 \n"
          ]
        }
      ]
    },
    {
      "cell_type": "markdown",
      "source": [
        "**EVALUATING COLLABORATIVE FILTERING RECOMMENDATIONS**"
      ],
      "metadata": {
        "id": "_0aobO7oKlmI"
      }
    },
    {
      "cell_type": "markdown",
      "source": [
        "In order to evaluate the performance of collaborative Filtering recommendations, we will calculate the Root Mean Square Error (RMSE) and Mean Absolute Error (MAE) by comparing predicted ratings against actual ratings in the test dataset. The lower the value of RMSE and MAE, means that the methods have better performed.  "
      ],
      "metadata": {
        "id": "nVPihHKDKrS_"
      }
    },
    {
      "cell_type": "code",
      "source": [
        "# Make predictions and evaluate\n",
        "predicted_test_ratings = []\n",
        "for user_id, movie_id, rating in test_data[['userId', 'movieId', 'rating']].values:\n",
        "\n",
        "    if user_id in ratings_predict and movie_id in ratings_predict[user_id]:\n",
        "        predicted_ratings = ratings_predict[user_id][movie_id]\n",
        "        predicted_test_ratings.append(predicted_ratings)\n",
        "    else:\n",
        "        ratings_mean = ratings_df['rating'].mean()\n",
        "        predicted_test_ratings.append(ratings_mean)\n",
        "\n",
        "test_ratings = test_data['rating'].values\n",
        "\n",
        "# Calculating Root Mean Square Error (RMSE) of Collaborative Filtering\n",
        "rmse_colfil = mean_squared_error(test_ratings, predicted_test_ratings, squared=False)\n",
        "print(f\"Root Mean Square Error (RMSE) of Collaborative Filtering: {rmse_colfil}\")\n",
        "\n",
        "# Calculating Mean Absolute Error (MAE) of Collaborative Filtering\n",
        "mae_colfil = mean_absolute_error(test_ratings, predicted_test_ratings,)\n",
        "print(f\"Mean Absolute Error (MAE) of Collaborative Filtering: {mae_colfil}\")"
      ],
      "metadata": {
        "colab": {
          "base_uri": "https://localhost:8080/"
        },
        "id": "Jmh8AmquKmA1",
        "outputId": "cb344cb4-efee-4180-ce3b-4773db903a95"
      },
      "execution_count": 16,
      "outputs": [
        {
          "output_type": "stream",
          "name": "stdout",
          "text": [
            "Root Mean Square Error (RMSE) of Collaborative Filtering: 1.0488361768130714\n",
            "Mean Absolute Error (MAE) of Collaborative Filtering: 0.8315511597145444\n"
          ]
        }
      ]
    },
    {
      "cell_type": "markdown",
      "source": [
        "**DEVELOPING RECOMMENDER SYSTEM USING CONTENT-BASED FILTERING METHOD**"
      ],
      "metadata": {
        "id": "V7sQuwv8NUHe"
      }
    },
    {
      "cell_type": "markdown",
      "source": [
        "In this section, we will develop content-based recommendations for movies. Initially, we try develop a matrix to segregate movies based on features using cosine similarity. Additionally, it will identify movies with similar genres and tags and will list them with individual ID’s. TfidfVectorizer is used to execute similarity matrix fiding similar item lists.\n",
        "\n",
        "A new function will be generated for content-based filtering to identify similar movie indexes in the dataset. It will find movies with similar scores and content and will list it."
      ],
      "metadata": {
        "id": "OI1yqBfcNW_v"
      }
    },
    {
      "cell_type": "code",
      "source": [
        "# Executing similarity matrix\n",
        "tfidf_vec = TfidfVectorizer(stop_words='english')\n",
        "tfidf_matrix = tfidf_vec.fit_transform(movies_df['features'].values.astype('U'))\n",
        "item_similar = cosine_similarity(tfidf_matrix, tfidf_matrix)"
      ],
      "metadata": {
        "id": "JD-DrwnWNeb1"
      },
      "execution_count": 17,
      "outputs": []
    },
    {
      "cell_type": "code",
      "source": [
        "# Developing function for content-based filtering\n",
        "def content_based_filtering(movie_title, similarity_matrix, num_recommendations=10):\n",
        "    movie_index = movies_df[movies_df['title'] == movie_title].index.values[0]\n",
        "    similar_scores = similarity_matrix[movie_index]\n",
        "    similar_movies_content = similar_scores.argsort()[::-1][1:]\n",
        "    similar_movies = movies_df.iloc[similar_movies_content]\n",
        "    return similar_movies[['title', 'genres', 'imdbId']]"
      ],
      "metadata": {
        "id": "BrjY2_I6Pq6j"
      },
      "execution_count": 18,
      "outputs": []
    },
    {
      "cell_type": "markdown",
      "source": [
        "The following codes to generate content-based recommendations for a particular movie. Let’s select 'Toy Story (1995)' as the selected movie, the function will generate recommendations of movies listed based on title, genres and similar content with this movie."
      ],
      "metadata": {
        "id": "SB-B2YGPRR4R"
      }
    },
    {
      "cell_type": "code",
      "source": [
        "movie_content_title = 'Toy Story (1995)'\n",
        "content_based_recommended_movies = content_based_filtering(movie_content_title, item_similar)\n",
        "print(\"\\nRecommendations Based on Content-Based Filtering\")\n",
        "print(content_based_recommended_movies.head(10))"
      ],
      "metadata": {
        "colab": {
          "base_uri": "https://localhost:8080/"
        },
        "id": "czHWmDhNRSbY",
        "outputId": "da122efa-19eb-4fe2-d6d6-32e1b17fa54a"
      },
      "execution_count": 19,
      "outputs": [
        {
          "output_type": "stream",
          "name": "stdout",
          "text": [
            "\n",
            "Recommendations Based on Content-Based Filtering\n",
            "                                                   title  \\\n",
            "1                                       Toy Story (1995)   \n",
            "3214                                  Toy Story 2 (1999)   \n",
            "3217                                  Toy Story 2 (1999)   \n",
            "2484                                Bug's Life, A (1998)   \n",
            "8672                                           Up (2009)   \n",
            "4633                               Monsters, Inc. (2001)   \n",
            "11499                                       Moana (2016)   \n",
            "3966                    Emperor's New Groove, The (2000)   \n",
            "9544   Asterix and the Vikings (Astérix et les Viking...   \n",
            "10948                           The Good Dinosaur (2015)   \n",
            "\n",
            "                                            genres   imdbId  \n",
            "1      Adventure Animation Children Comedy Fantasy   114709  \n",
            "3214   Adventure Animation Children Comedy Fantasy   120363  \n",
            "3217   Adventure Animation Children Comedy Fantasy   120363  \n",
            "2484           Adventure Animation Children Comedy   120623  \n",
            "8672            Adventure Animation Children Drama  1049413  \n",
            "4633   Adventure Animation Children Comedy Fantasy   198781  \n",
            "11499  Adventure Animation Children Comedy Fantasy  3521164  \n",
            "3966   Adventure Animation Children Comedy Fantasy   120917  \n",
            "9544   Adventure Animation Children Comedy Fantasy   371552  \n",
            "10948  Adventure Animation Children Comedy Fantasy  1979388  \n"
          ]
        }
      ]
    },
    {
      "cell_type": "markdown",
      "source": [
        "**EVALUATING CONTENT-BASED FILTERING RECOMMENDATIONS**"
      ],
      "metadata": {
        "id": "kDmGhvPNUU4j"
      }
    },
    {
      "cell_type": "markdown",
      "source": [
        "At this stage, we will evaluate how well content based filtering recommendations have performed in terms of accuracy and relevance. We will predict movie ratings and evaluate it using RMSE and MAE."
      ],
      "metadata": {
        "id": "-8xskuN3UUlI"
      }
    },
    {
      "cell_type": "code",
      "source": [
        "# Creating a small test dataset with 1000 ratings\n",
        "num_ratings = 1000\n",
        "test_data = ratings_df.sample(n=num_ratings, random_state=42)\n",
        "\n",
        "# Developing function, predicted ratings and actual ratings\n",
        "def predict_movie_ratings(test_data, similarity_matrix):\n",
        "    predicted_ratings = []\n",
        "    for user_id, movie_id, rating in test_data[['userId', 'movieId', 'rating']].values:\n",
        "        recommended_movies = content_based_filtering(movies_df[movies_df['movieId'] == movie_id]['title'].values[0], similarity_matrix)\n",
        "        predicted_rating = np.random.uniform(1, 5)\n",
        "        predicted_ratings.append(predicted_rating)\n",
        "    return predicted_ratings\n",
        "\n",
        "predicted_ratings_test_content = predict_movie_ratings(test_data, item_similar)\n",
        "test_ratings = test_data['rating'].values\n",
        "\n",
        "# Calculate RMSE for content-based filtering\n",
        "rmse_confil = mean_squared_error(test_ratings, predicted_ratings_test_content, squared=False)\n",
        "print(f\"Root Mean Square Error (RMSE) of Content-Based Filtering: {rmse_confil}\")\n",
        "\n",
        "# Calculate MAE for content-based filtering\n",
        "mae_confil = mean_absolute_error(test_ratings, predicted_ratings_test_content,)\n",
        "print(f\"Mean Absolute Error (MAE) of Content-Based FIltering: {mae_confil}\")\n"
      ],
      "metadata": {
        "colab": {
          "base_uri": "https://localhost:8080/"
        },
        "id": "Eawc_TfKUbzp",
        "outputId": "abf30a2c-d7eb-41f7-c40e-9d4f07c395fe"
      },
      "execution_count": null,
      "outputs": [
        {
          "output_type": "stream",
          "name": "stdout",
          "text": [
            "Root Mean Square Error (RMSE) of Content-Based Filtering: 1.643261559918365\n",
            "Mean Absolute Error (MAE) of Content-Based FIltering: 1.354126601752953\n"
          ]
        }
      ]
    },
    {
      "cell_type": "markdown",
      "source": [
        "**DEVELOPING HYBRID RECOMMENDER SYSTEM USING COLLABORATIVE FILTERING & CONTENT-BASED FILTERING**"
      ],
      "metadata": {
        "id": "9GKd6x1NWm0U"
      }
    },
    {
      "cell_type": "markdown",
      "source": [
        "In this step, we will create a new function to combine collaborative and content-based recommendations method to generate more accurate and relevant suggestions to specific users and a particular movie."
      ],
      "metadata": {
        "id": "IQKo6ReLWpbk"
      }
    },
    {
      "cell_type": "code",
      "source": [
        "# Developing function for hybrid recommendations\n",
        "def hybrid_recommendations_csp(user_id, movie_title, num_recommendations=10):\n",
        "\n",
        "    if user_id not in train_user_item_mtx.index: # new users\n",
        "        return content_based_filtering(movie_title, item_similar, num_recommendations)\n",
        "\n",
        "    recommend_colfil = collaborative_filtering(user_id, ratings_predict, num_recommendations)\n",
        "    recommend_confil = content_based_filtering(movie_title, item_similar, num_recommendations)\n",
        "\n",
        "    hybrid_recommendations = []\n",
        "    colfil_titles = [title for title, _ in recommend_colfil]\n",
        "    for idx, (title, _) in enumerate(recommend_colfil):\n",
        "        if title not in colfil_titles:\n",
        "            hybrid_recommendations.append((title, idx+1))\n",
        "\n",
        "    confil_titles = [title for title in recommend_confil['title']]\n",
        "    for title in confil_titles:\n",
        "        if title not in colfil_titles:\n",
        "            hybrid_recommendations.append((title, idx+1))\n",
        "\n",
        "    hybrid_recommendations = sorted(hybrid_recommendations, key=lambda x: x[1])\n",
        "    return [movie[0] for movie in hybrid_recommendations[:num_recommendations]]"
      ],
      "metadata": {
        "id": "KNqVZqG4YUyf"
      },
      "execution_count": 20,
      "outputs": []
    },
    {
      "cell_type": "markdown",
      "source": [
        "As we have already created the function for hybrid recommendations, we will employ both collaborative and content-based filtering approaches to create a list of movies with similar titles, genres and content at the same time. Let’s assume the viewer is 'User 22' and the movie is 'Toy Story (1995)'. The following codes will generate the desired result as a list."
      ],
      "metadata": {
        "id": "MPdObwN7ZlWj"
      }
    },
    {
      "cell_type": "code",
      "source": [
        "hybrid_user_id = 22\n",
        "movie_title_content = 'Toy Story (1995)'\n",
        "hybrid_recommended_movies_csp = hybrid_recommendations_csp(hybrid_user_id, movie_title_content)\n",
        "print(f\"\\nHybrid Recommendations for User {hybrid_user_id} based on '{movie_title_content}':\")\n",
        "for idx, movie in enumerate(hybrid_recommended_movies_csp, start=1):\n",
        "    print(f\"{idx}. {movie}\")\n",
        "    print(f\"{idx}. {movie}\")"
      ],
      "metadata": {
        "colab": {
          "base_uri": "https://localhost:8080/"
        },
        "id": "cJHBruRKZol3",
        "outputId": "3576c674-2f7d-40d0-e0c9-77c2c3c401d2"
      },
      "execution_count": 21,
      "outputs": [
        {
          "output_type": "stream",
          "name": "stdout",
          "text": [
            "\n",
            "Hybrid Recommendations for User 22 based on 'Toy Story (1995)':\n",
            "1. Toy Story (1995)\n",
            "1. Toy Story (1995)\n",
            "2. Toy Story 2 (1999)\n",
            "2. Toy Story 2 (1999)\n",
            "3. Toy Story 2 (1999)\n",
            "3. Toy Story 2 (1999)\n",
            "4. Bug's Life, A (1998)\n",
            "4. Bug's Life, A (1998)\n",
            "5. Up (2009)\n",
            "5. Up (2009)\n",
            "6. Monsters, Inc. (2001)\n",
            "6. Monsters, Inc. (2001)\n",
            "7. Moana (2016)\n",
            "7. Moana (2016)\n",
            "8. Emperor's New Groove, The (2000)\n",
            "8. Emperor's New Groove, The (2000)\n",
            "9. Asterix and the Vikings (Astérix et les Vikings) (2006)\n",
            "9. Asterix and the Vikings (Astérix et les Vikings) (2006)\n",
            "10. The Good Dinosaur (2015)\n",
            "10. The Good Dinosaur (2015)\n"
          ]
        }
      ]
    }
  ]
}